{
 "metadata": {
  "name": ""
 },
 "nbformat": 3,
 "nbformat_minor": 0,
 "worksheets": [
  {
   "cells": [
    {
     "cell_type": "heading",
     "level": 2,
     "metadata": {},
     "source": [
      "Linux System Mining with Python"
     ]
    },
    {
     "cell_type": "markdown",
     "metadata": {},
     "source": [
      "based on this [article](http://amitsaha.github.io/site/notes/articles/python_linux/article.html \"article\" ) by Amit Saha.\n"
     ]
    },
    {
     "cell_type": "markdown",
     "metadata": {},
     "source": [
      "The platform module in the standard library has a number of functions which allow us to retrieve various system information. Let us start the Python interpreter and explore some of them, starting with the `platform.uname()` function:"
     ]
    },
    {
     "cell_type": "code",
     "collapsed": false,
     "input": [
      "import platform\n",
      "platform.uname()    "
     ],
     "language": "python",
     "metadata": {},
     "outputs": [
      {
       "metadata": {},
       "output_type": "pyout",
       "prompt_number": 1,
       "text": [
        "uname_result(system='Linux', node='ecky', release='3.13.7-gentoo', version='#1 SMP PREEMPT Sun Mar 30 17:27:53 CEST 2014', machine='x86_64', processor='Intel(R) Core(TM) i7-2630QM CPU @ 2.00GHz')"
       ]
      }
     ],
     "prompt_number": 1
    },
    {
     "cell_type": "markdown",
     "metadata": {},
     "source": [
      "If you are aware of the `uname` command on Linux, you will recognize that this function is an interface of sorts to this command. On Python 2, it returns a tuple consisting of the system type (or Kernel type), hostname, version, release, machine hardware and processor information. You can access individual attributes using indices, like so:"
     ]
    },
    {
     "cell_type": "code",
     "collapsed": false,
     "input": [
      "platform.uname()[0]"
     ],
     "language": "python",
     "metadata": {},
     "outputs": [
      {
       "output_type": "pyout",
       "prompt_number": 2,
       "text": [
        "'Linux'"
       ]
      }
     ],
     "prompt_number": 2
    },
    {
     "cell_type": "markdown",
     "metadata": {},
     "source": [
      "On Python 3, the function returns a named tuple:"
     ]
    },
    {
     "cell_type": "code",
     "collapsed": false,
     "input": [
      "platform.uname()\n"
     ],
     "language": "python",
     "metadata": {},
     "outputs": [
      {
       "output_type": "pyout",
       "prompt_number": 3,
       "text": [
        "('Linux',\n",
        " 'debian',\n",
        " '2.6.32-27-pve',\n",
        " '#1 SMP Tue Feb 11 16:18:29 CET 2014',\n",
        " 'x86_64',\n",
        " '')"
       ]
      }
     ],
     "prompt_number": 3
    },
    {
     "cell_type": "markdown",
     "metadata": {},
     "source": [
      "The platform module also has direct interfaces to some of the above attributes, like so:"
     ]
    },
    {
     "cell_type": "code",
     "collapsed": false,
     "input": [
      "platform.system()"
     ],
     "language": "python",
     "metadata": {},
     "outputs": [
      {
       "output_type": "pyout",
       "prompt_number": 4,
       "text": [
        "'Linux'"
       ]
      }
     ],
     "prompt_number": 4
    },
    {
     "cell_type": "code",
     "collapsed": false,
     "input": [
      "platform.release()"
     ],
     "language": "python",
     "metadata": {},
     "outputs": [
      {
       "output_type": "pyout",
       "prompt_number": 5,
       "text": [
        "'2.6.32-27-pve'"
       ]
      }
     ],
     "prompt_number": 5
    },
    {
     "cell_type": "markdown",
     "metadata": {},
     "source": [
      "The `linux_distribution()` function returns details about the Linux distribution you are on. For example, on a Fedora 18 system, this command returns the following information:"
     ]
    },
    {
     "cell_type": "code",
     "collapsed": false,
     "input": [
      "platform.linux_distribution()"
     ],
     "language": "python",
     "metadata": {},
     "outputs": [
      {
       "output_type": "pyout",
       "prompt_number": 6,
       "text": [
        "('debian', '7.4', '')"
       ]
      }
     ],
     "prompt_number": 6
    },
    {
     "cell_type": "markdown",
     "metadata": {},
     "source": [
      "The result is returned as a tuple consisting of the distribution name, version and the code name. The distributions supported by your particular Python version can be obtained by printing the value of the `_supported_dists` attribute:"
     ]
    },
    {
     "cell_type": "code",
     "collapsed": false,
     "input": [
      "platform._supported_dists"
     ],
     "language": "python",
     "metadata": {},
     "outputs": [
      {
       "output_type": "pyout",
       "prompt_number": 7,
       "text": [
        "('SuSE',\n",
        " 'debian',\n",
        " 'fedora',\n",
        " 'redhat',\n",
        " 'centos',\n",
        " 'mandrake',\n",
        " 'mandriva',\n",
        " 'rocks',\n",
        " 'slackware',\n",
        " 'yellowdog',\n",
        " 'gentoo',\n",
        " 'UnitedLinux',\n",
        " 'turbolinux')"
       ]
      }
     ],
     "prompt_number": 7
    },
    {
     "cell_type": "markdown",
     "metadata": {},
     "source": [
      "If your Linux distribution is not one of these (or a derivative of one of these), then you will likely not see any useful information from the above function call.\n",
      "\n",
      "The final function from the platform module, we will look at is the `architecture()` function. When you call the function without any arguments, this function returns a tuple consisting of the bit architecture and the executable format of the Python executable, like so:"
     ]
    },
    {
     "cell_type": "code",
     "collapsed": false,
     "input": [
      "platform.architecture()"
     ],
     "language": "python",
     "metadata": {},
     "outputs": [
      {
       "output_type": "pyout",
       "prompt_number": 8,
       "text": [
        "('64bit', 'ELF')"
       ]
      }
     ],
     "prompt_number": 8
    },
    {
     "cell_type": "markdown",
     "metadata": {},
     "source": [
      "You will get similar results if you specify any other executable on the system, like so:"
     ]
    },
    {
     "cell_type": "code",
     "collapsed": false,
     "input": [
      "platform.architecture(executable='/usr/bin/ls')"
     ],
     "language": "python",
     "metadata": {},
     "outputs": [
      {
       "output_type": "pyout",
       "prompt_number": 9,
       "text": [
        "('64bit', '')"
       ]
      }
     ],
     "prompt_number": 9
    },
    {
     "cell_type": "markdown",
     "metadata": {},
     "source": [
      "You are encouraged to explore other functions of the platform module which among others, allow you to find the current Python version you are running. If you are keen to know how this module retrieves this information, the `Lib/platform.py` file in the Python source directory is where you should look into.\n",
      "\n",
      "The os and sys modules are also of interest to retrieve certain system attributes such as the native byteorder. Next, we move beyond the Python standard library modules to explore some generic approaches to access the information on a Linux system made available via the proc and sysfs file systems. It is to be noted that the information made available via these filesystems will vary between various hardware architectures and hence you should keep that in mind while reading this article and also writing scripts which attempt to retrieve information from these files."
     ]
    },
    {
     "cell_type": "heading",
     "level": 2,
     "metadata": {},
     "source": [
      "CPU Information"
     ]
    },
    {
     "cell_type": "markdown",
     "metadata": {},
     "source": [
      "The file /proc/cpuinfo contains information about the processing units on your system. For example, here is a Python version of what the Linux command cat /proc/cpuinfo would do:"
     ]
    },
    {
     "cell_type": "code",
     "collapsed": false,
     "input": [
      "#! /usr/bin/env python3\n",
      "\"\"\" print out the /proc/cpuinfo\n",
      "    file\n",
      "\"\"\"\n",
      "\n",
      "with open('/proc/cpuinfo') as f:\n",
      "    for line in f:\n",
      "        print(line.rstrip('\\n'))"
     ],
     "language": "python",
     "metadata": {},
     "outputs": [
      {
       "output_type": "stream",
       "stream": "stdout",
       "text": [
        "processor\t: 0\n",
        "vendor_id\t: GenuineIntel\n",
        "cpu family\t: 6\n",
        "model\t\t: 42\n",
        "model name\t: Intel(R) Core(TM) i7-2630QM CPU @ 2.00GHz\n",
        "stepping\t: 7\n",
        "microcode\t: 0x23\n",
        "cpu MHz\t\t: 2394.531\n",
        "cache size\t: 6144 KB\n",
        "physical id\t: 0\n",
        "siblings\t: 8\n",
        "core id\t\t: 0\n",
        "cpu cores\t: 4\n",
        "apicid\t\t: 0\n",
        "initial apicid\t: 0\n",
        "fpu\t\t: yes\n",
        "fpu_exception\t: yes\n",
        "cpuid level\t: 13\n",
        "wp\t\t: yes\n",
        "flags\t\t: fpu vme de pse tsc msr pae mce cx8 apic sep mtrr pge mca cmov pat pse36 clflush dts acpi mmx fxsr sse sse2 ss ht tm pbe syscall nx rdtscp lm constant_tsc arch_perfmon pebs bts nopl xtopology nonstop_tsc aperfmperf eagerfpu pni pclmulqdq dtes64 monitor ds_cpl vmx est tm2 ssse3 cx16 xtpr pdcm pcid sse4_1 sse4_2 x2apic popcnt tsc_deadline_timer aes xsave avx lahf_lm ida arat epb xsaveopt pln pts dtherm tpr_shadow vnmi flexpriority ept vpid\n",
        "bogomips\t: 3991.02\n",
        "clflush size\t: 64\n",
        "cache_alignment\t: 64\n",
        "address sizes\t: 36 bits physical, 48 bits virtual\n",
        "power management:\n",
        "\n",
        "processor\t: 1\n",
        "vendor_id\t: GenuineIntel\n",
        "cpu family\t: 6\n",
        "model\t\t: 42\n",
        "model name\t: Intel(R) Core(TM) i7-2630QM CPU @ 2.00GHz\n",
        "stepping\t: 7\n",
        "microcode\t: 0x23\n",
        "cpu MHz\t\t: 1864.765\n",
        "cache size\t: 6144 KB\n",
        "physical id\t: 0\n",
        "siblings\t: 8\n",
        "core id\t\t: 0\n",
        "cpu cores\t: 4\n",
        "apicid\t\t: 1\n",
        "initial apicid\t: 1\n",
        "fpu\t\t: yes\n",
        "fpu_exception\t: yes\n",
        "cpuid level\t: 13\n",
        "wp\t\t: yes\n",
        "flags\t\t: fpu vme de pse tsc msr pae mce cx8 apic sep mtrr pge mca cmov pat pse36 clflush dts acpi mmx fxsr sse sse2 ss ht tm pbe syscall nx rdtscp lm constant_tsc arch_perfmon pebs bts nopl xtopology nonstop_tsc aperfmperf eagerfpu pni pclmulqdq dtes64 monitor ds_cpl vmx est tm2 ssse3 cx16 xtpr pdcm pcid sse4_1 sse4_2 x2apic popcnt tsc_deadline_timer aes xsave avx lahf_lm ida arat epb xsaveopt pln pts dtherm tpr_shadow vnmi flexpriority ept vpid\n",
        "bogomips\t: 3991.02\n",
        "clflush size\t: 64\n",
        "cache_alignment\t: 64\n",
        "address sizes\t: 36 bits physical, 48 bits virtual\n",
        "power management:\n",
        "\n",
        "processor\t: 2\n",
        "vendor_id\t: GenuineIntel\n",
        "cpu family\t: 6\n",
        "model\t\t: 42\n",
        "model name\t: Intel(R) Core(TM) i7-2630QM CPU @ 2.00GHz\n",
        "stepping\t: 7\n",
        "microcode\t: 0x23\n",
        "cpu MHz\t\t: 1440.390\n",
        "cache size\t: 6144 KB\n",
        "physical id\t: 0\n",
        "siblings\t: 8\n",
        "core id\t\t: 1\n",
        "cpu cores\t: 4\n",
        "apicid\t\t: 2\n",
        "initial apicid\t: 2\n",
        "fpu\t\t: yes\n",
        "fpu_exception\t: yes\n",
        "cpuid level\t: 13\n",
        "wp\t\t: yes\n",
        "flags\t\t: fpu vme de pse tsc msr pae mce cx8 apic sep mtrr pge mca cmov pat pse36 clflush dts acpi mmx fxsr sse sse2 ss ht tm pbe syscall nx rdtscp lm constant_tsc arch_perfmon pebs bts nopl xtopology nonstop_tsc aperfmperf eagerfpu pni pclmulqdq dtes64 monitor ds_cpl vmx est tm2 ssse3 cx16 xtpr pdcm pcid sse4_1 sse4_2 x2apic popcnt tsc_deadline_timer aes xsave avx lahf_lm ida arat epb xsaveopt pln pts dtherm tpr_shadow vnmi flexpriority ept vpid\n",
        "bogomips\t: 3991.02\n",
        "clflush size\t: 64\n",
        "cache_alignment\t: 64\n",
        "address sizes\t: 36 bits physical, 48 bits virtual\n",
        "power management:\n",
        "\n",
        "processor\t: 3\n",
        "vendor_id\t: GenuineIntel\n",
        "cpu family\t: 6\n",
        "model\t\t: 42\n",
        "model name\t: Intel(R) Core(TM) i7-2630QM CPU @ 2.00GHz\n",
        "stepping\t: 7\n",
        "microcode\t: 0x23\n",
        "cpu MHz\t\t: 2319.609\n",
        "cache size\t: 6144 KB\n",
        "physical id\t: 0\n",
        "siblings\t: 8\n",
        "core id\t\t: 1\n",
        "cpu cores\t: 4\n",
        "apicid\t\t: 3\n",
        "initial apicid\t: 3\n",
        "fpu\t\t: yes\n",
        "fpu_exception\t: yes\n",
        "cpuid level\t: 13\n",
        "wp\t\t: yes\n",
        "flags\t\t: fpu vme de pse tsc msr pae mce cx8 apic sep mtrr pge mca cmov pat pse36 clflush dts acpi mmx fxsr sse sse2 ss ht tm pbe syscall nx rdtscp lm constant_tsc arch_perfmon pebs bts nopl xtopology nonstop_tsc aperfmperf eagerfpu pni pclmulqdq dtes64 monitor ds_cpl vmx est tm2 ssse3 cx16 xtpr pdcm pcid sse4_1 sse4_2 x2apic popcnt tsc_deadline_timer aes xsave avx lahf_lm ida arat epb xsaveopt pln pts dtherm tpr_shadow vnmi flexpriority ept vpid\n",
        "bogomips\t: 3991.02\n",
        "clflush size\t: 64\n",
        "cache_alignment\t: 64\n",
        "address sizes\t: 36 bits physical, 48 bits virtual\n",
        "power management:\n",
        "\n",
        "processor\t: 4\n",
        "vendor_id\t: GenuineIntel\n",
        "cpu family\t: 6\n",
        "model\t\t: 42\n",
        "model name\t: Intel(R) Core(TM) i7-2630QM CPU @ 2.00GHz\n",
        "stepping\t: 7\n",
        "microcode\t: 0x23\n",
        "cpu MHz\t\t: 2008.281\n",
        "cache size\t: 6144 KB\n",
        "physical id\t: 0\n",
        "siblings\t: 8\n",
        "core id\t\t: 2\n",
        "cpu cores\t: 4\n",
        "apicid\t\t: 4\n",
        "initial apicid\t: 4\n",
        "fpu\t\t: yes\n",
        "fpu_exception\t: yes\n",
        "cpuid level\t: 13\n",
        "wp\t\t: yes\n",
        "flags\t\t: fpu vme de pse tsc msr pae mce cx8 apic sep mtrr pge mca cmov pat pse36 clflush dts acpi mmx fxsr sse sse2 ss ht tm pbe syscall nx rdtscp lm constant_tsc arch_perfmon pebs bts nopl xtopology nonstop_tsc aperfmperf eagerfpu pni pclmulqdq dtes64 monitor ds_cpl vmx est tm2 ssse3 cx16 xtpr pdcm pcid sse4_1 sse4_2 x2apic popcnt tsc_deadline_timer aes xsave avx lahf_lm ida arat epb xsaveopt pln pts dtherm tpr_shadow vnmi flexpriority ept vpid\n",
        "bogomips\t: 3991.02\n",
        "clflush size\t: 64\n",
        "cache_alignment\t: 64\n",
        "address sizes\t: 36 bits physical, 48 bits virtual\n",
        "power management:\n",
        "\n",
        "processor\t: 5\n",
        "vendor_id\t: GenuineIntel\n",
        "cpu family\t: 6\n",
        "model\t\t: 42\n",
        "model name\t: Intel(R) Core(TM) i7-2630QM CPU @ 2.00GHz\n",
        "stepping\t: 7\n",
        "microcode\t: 0x23\n",
        "cpu MHz\t\t: 1464.609\n",
        "cache size\t: 6144 KB\n",
        "physical id\t: 0\n",
        "siblings\t: 8\n",
        "core id\t\t: 2\n",
        "cpu cores\t: 4\n",
        "apicid\t\t: 5\n",
        "initial apicid\t: 5\n",
        "fpu\t\t: yes\n",
        "fpu_exception\t: yes\n",
        "cpuid level\t: 13\n",
        "wp\t\t: yes\n",
        "flags\t\t: fpu vme de pse tsc msr pae mce cx8 apic sep mtrr pge mca cmov pat pse36 clflush dts acpi mmx fxsr sse sse2 ss ht tm pbe syscall nx rdtscp lm constant_tsc arch_perfmon pebs bts nopl xtopology nonstop_tsc aperfmperf eagerfpu pni pclmulqdq dtes64 monitor ds_cpl vmx est tm2 ssse3 cx16 xtpr pdcm pcid sse4_1 sse4_2 x2apic popcnt tsc_deadline_timer aes xsave avx lahf_lm ida arat epb xsaveopt pln pts dtherm tpr_shadow vnmi flexpriority ept vpid\n",
        "bogomips\t: 3991.02\n",
        "clflush size\t: 64\n",
        "cache_alignment\t: 64\n",
        "address sizes\t: 36 bits physical, 48 bits virtual\n",
        "power management:\n",
        "\n",
        "processor\t: 6\n",
        "vendor_id\t: GenuineIntel\n",
        "cpu family\t: 6\n",
        "model\t\t: 42\n",
        "model name\t: Intel(R) Core(TM) i7-2630QM CPU @ 2.00GHz\n",
        "stepping\t: 7\n",
        "microcode\t: 0x23\n",
        "cpu MHz\t\t: 2299.765\n",
        "cache size\t: 6144 KB\n",
        "physical id\t: 0\n",
        "siblings\t: 8\n",
        "core id\t\t: 3\n",
        "cpu cores\t: 4\n",
        "apicid\t\t: 6\n",
        "initial apicid\t: 6\n",
        "fpu\t\t: yes\n",
        "fpu_exception\t: yes\n",
        "cpuid level\t: 13\n",
        "wp\t\t: yes\n",
        "flags\t\t: fpu vme de pse tsc msr pae mce cx8 apic sep mtrr pge mca cmov pat pse36 clflush dts acpi mmx fxsr sse sse2 ss ht tm pbe syscall nx rdtscp lm constant_tsc arch_perfmon pebs bts nopl xtopology nonstop_tsc aperfmperf eagerfpu pni pclmulqdq dtes64 monitor ds_cpl vmx est tm2 ssse3 cx16 xtpr pdcm pcid sse4_1 sse4_2 x2apic popcnt tsc_deadline_timer aes xsave avx lahf_lm ida arat epb xsaveopt pln pts dtherm tpr_shadow vnmi flexpriority ept vpid\n",
        "bogomips\t: 3991.02\n",
        "clflush size\t: 64\n",
        "cache_alignment\t: 64\n",
        "address sizes\t: 36 bits physical, 48 bits virtual\n",
        "power management:\n",
        "\n",
        "processor\t: 7\n",
        "vendor_id\t: GenuineIntel\n",
        "cpu family\t: 6\n",
        "model\t\t: 42\n",
        "model name\t: Intel(R) Core(TM) i7-2630QM CPU @ 2.00GHz\n",
        "stepping\t: 7\n",
        "microcode\t: 0x23\n",
        "cpu MHz\t\t: 2238.906\n",
        "cache size\t: 6144 KB\n",
        "physical id\t: 0\n",
        "siblings\t: 8\n",
        "core id\t\t: 3\n",
        "cpu cores\t: 4\n",
        "apicid\t\t: 7\n",
        "initial apicid\t: 7\n",
        "fpu\t\t: yes\n",
        "fpu_exception\t: yes\n",
        "cpuid level\t: 13\n",
        "wp\t\t: yes\n",
        "flags\t\t: fpu vme de pse tsc msr pae mce cx8 apic sep mtrr pge mca cmov pat pse36 clflush dts acpi mmx fxsr sse sse2 ss ht tm pbe syscall nx rdtscp lm constant_tsc arch_perfmon pebs bts nopl xtopology nonstop_tsc aperfmperf eagerfpu pni pclmulqdq dtes64 monitor ds_cpl vmx est tm2 ssse3 cx16 xtpr pdcm pcid sse4_1 sse4_2 x2apic popcnt tsc_deadline_timer aes xsave avx lahf_lm ida arat epb xsaveopt pln pts dtherm tpr_shadow vnmi flexpriority ept vpid\n",
        "bogomips\t: 3991.02\n",
        "clflush size\t: 64\n",
        "cache_alignment\t: 64\n",
        "address sizes\t: 36 bits physical, 48 bits virtual\n",
        "power management:\n",
        "\n"
       ]
      }
     ],
     "prompt_number": 2
    },
    {
     "cell_type": "markdown",
     "metadata": {},
     "source": [
      "When you execute this program either using Python 2 or Python 3, you should see all the contents of\u00a0`/proc/cpuinfo`\u00a0dumped on your screen (In the above program, the `rstrip()`\u00a0method removes the trailing newline character from the end of each line).\n",
      "\n",
      "The next code listing uses the\u00a0`startswith()`\u00a0string method to display the models of your processing units:"
     ]
    },
    {
     "cell_type": "code",
     "collapsed": false,
     "input": [
      "#! /usr/bin/env python3\n",
      "\n",
      "\"\"\" Print the model of your \n",
      "    processing units\n",
      "\n",
      "\"\"\"\n",
      "\n",
      "with open('/proc/cpuinfo') as f:\n",
      "    for line in f:\n",
      "        # Ignore the blank line separating the information between\n",
      "        # details about two processing units\n",
      "        if line.strip():\n",
      "            if line.rstrip('\\n').startswith('model name'):\n",
      "                model_name = line.rstrip('\\n').split(':')[1]\n",
      "                print(model_name)"
     ],
     "language": "python",
     "metadata": {},
     "outputs": [
      {
       "output_type": "stream",
       "stream": "stdout",
       "text": [
        " Intel(R) Core(TM) i7-2630QM CPU @ 2.00GHz\n",
        " Intel(R) Core(TM) i7-2630QM CPU @ 2.00GHz\n",
        " Intel(R) Core(TM) i7-2630QM CPU @ 2.00GHz\n",
        " Intel(R) Core(TM) i7-2630QM CPU @ 2.00GHz\n",
        " Intel(R) Core(TM) i7-2630QM CPU @ 2.00GHz\n",
        " Intel(R) Core(TM) i7-2630QM CPU @ 2.00GHz\n",
        " Intel(R) Core(TM) i7-2630QM CPU @ 2.00GHz\n",
        " Intel(R) Core(TM) i7-2630QM CPU @ 2.00GHz\n"
       ]
      }
     ],
     "prompt_number": 3
    },
    {
     "cell_type": "markdown",
     "metadata": {},
     "source": [
      "We have so far seen a couple of ways to find the architecture of the computer system we are on. To be technically correct, both those approaches actually report the architecture of the kernel your system is running. So, if your computer is actually a 64-bit computer, but is running a 32-bit kernel, then the above methods will report it as having a 32-bit architecture. To find the true architecture of the computer you can look for the\u00a0`lm`\u00a0flag in the list of flags in\u00a0`/proc/cpuinfo`. The\u00a0`lm`\u00a0flag stands for long mode and is only present on computers with a 64-bit architecture. The next program shows how you can do this:"
     ]
    },
    {
     "cell_type": "code",
     "collapsed": false,
     "input": [
      "#! /usr/bin/env python\n",
      "\n",
      "\"\"\" Find the real bit architecture\n",
      "\"\"\"\n",
      "\n",
      "with open('/proc/cpuinfo') as f:\n",
      "    for line in f:\n",
      "        # Ignore the blank line separating the information between\n",
      "        # details about two processing units\n",
      "        if line.strip():\n",
      "            if line.rstrip('\\n').startswith('flags') \\\n",
      "                    or line.rstrip('\\n').startswith('Features'):\n",
      "                if 'lm' in line.rstrip('\\n').split():\n",
      "                    print('64-bit')\n",
      "                else:\n",
      "                    print('32-bit')"
     ],
     "language": "python",
     "metadata": {},
     "outputs": [
      {
       "output_type": "stream",
       "stream": "stdout",
       "text": [
        "64-bit\n",
        "64-bit\n",
        "64-bit\n",
        "64-bit\n",
        "64-bit\n",
        "64-bit\n",
        "64-bit\n",
        "64-bit\n"
       ]
      }
     ],
     "prompt_number": 4
    },
    {
     "cell_type": "markdown",
     "metadata": {},
     "source": [
      "As we have seen so far, it is possible to read the\u00a0`/proc/cpuinfo`\u00a0and use simple text processing techniques to read the data we are looking for. To make it friendlier for other programs to use this data, it is perhaps a better idea to make the contents of`/proc/cpuinfo`\u00a0available as a standard data structure, such as a dictionary. The idea is simple: if you see the contents of this file, you will find that for each processing unit, there are a number of key, value pairs (in an earlier example, we printed the model name of the processor, here model name was a key). The information about different processing units are separated from each other by a blank line. It is simple to build a dictionary structure which has each of the processing unit\u2019s data as keys. For each of the these keys, the value is all the information about the corresponding processing unit present in the file\u00a0`/proc/cpuinfo`. The next listing shows how you can do so."
     ]
    },
    {
     "cell_type": "code",
     "collapsed": false,
     "input": [
      "#!/usr/bin/env python3\n",
      "\n",
      "\"\"\"\n",
      "/proc/cpuinfo as a Python dict\n",
      "\"\"\"\n",
      "\n",
      "from collections import OrderedDict\n",
      "import pprint\n",
      "\n",
      "def cpuinfo():\n",
      "    ''' Return the information in /proc/cpuinfo\n",
      "    as a dictionary in the following format:\n",
      "    cpu_info['proc0']={...}\n",
      "    cpu_info['proc1']={...}\n",
      "\n",
      "    '''\n",
      "\n",
      "    cpuinfo=OrderedDict()\n",
      "    procinfo=OrderedDict()\n",
      "\n",
      "    nprocs = 0\n",
      "    with open('/proc/cpuinfo') as f:\n",
      "        for line in f:\n",
      "            if not line.strip():\n",
      "                # end of one processor\n",
      "                cpuinfo['proc%s' % nprocs] = procinfo\n",
      "                nprocs=nprocs+1\n",
      "                # Reset\n",
      "                procinfo=OrderedDict()\n",
      "            else:\n",
      "                if len(line.split(':')) == 2:\n",
      "                    procinfo[line.split(':')[0].strip()] = line.split(':')[1].strip()\n",
      "                else:\n",
      "                    procinfo[line.split(':')[0].strip()] = ''\n",
      "            \n",
      "    return cpuinfo\n",
      "\n",
      "if __name__=='__main__':\n",
      "    cpuinfo = cpuinfo()\n",
      "    for processor in cpuinfo.keys():\n",
      "        print(cpuinfo[processor]['model name'])\n",
      "        print(cpuinfo[processor]['cpu MHz'])"
     ],
     "language": "python",
     "metadata": {},
     "outputs": [
      {
       "output_type": "stream",
       "stream": "stdout",
       "text": [
        "Intel(R) Core(TM) i7-2630QM CPU @ 2.00GHz\n",
        "2549.140\n",
        "Intel(R) Core(TM) i7-2630QM CPU @ 2.00GHz\n",
        "2072.812\n",
        "Intel(R) Core(TM) i7-2630QM CPU @ 2.00GHz\n",
        "2509.062\n",
        "Intel(R) Core(TM) i7-2630QM CPU @ 2.00GHz\n",
        "1359.375\n",
        "Intel(R) Core(TM) i7-2630QM CPU @ 2.00GHz\n",
        "1747.968\n",
        "Intel(R) Core(TM) i7-2630QM CPU @ 2.00GHz\n",
        "2649.453\n",
        "Intel(R) Core(TM) i7-2630QM CPU @ 2.00GHz\n",
        "2652.578\n",
        "Intel(R) Core(TM) i7-2630QM CPU @ 2.00GHz\n",
        "2361.796\n"
       ]
      }
     ],
     "prompt_number": 5
    },
    {
     "cell_type": "markdown",
     "metadata": {},
     "source": [
      "This code uses an\u00a0OrderedDict\u00a0(Ordered dictionary) instead of a usual dictionary so that the key and values are stored in the order which they are found in the file. Hence, the data for the first processing unit is followed by the data about the second processing unit and so on. If you call this function, it returns you a dictionary. The keys of dictionary are each processing unit with. You can then use to sieve for the information you are looking for (as demonstrated in the\u00a0`if__name__=='__main__'`\u00a0block). The above program when run will once again print the model name of each processing unit (as indicated by the statement`print(cpuinfo[processor]['model\u00a0name'])`."
     ]
    },
    {
     "cell_type": "heading",
     "level": 2,
     "metadata": {},
     "source": [
      "Memory Information"
     ]
    },
    {
     "cell_type": "markdown",
     "metadata": {},
     "source": [
      "Similar to\u00a0`/proc/cpuinfo`, the file\u00a0`/proc/meminfo`\u00a0contains information about the main memory on your computer. The next program creates a dictionary from the contents of this file and dumps it."
     ]
    },
    {
     "cell_type": "code",
     "collapsed": false,
     "input": [
      "#!/usr/bin/env python3\n",
      "\n",
      "from collections import OrderedDict\n",
      "def meminfo():\n",
      "    ''' Return the information in /proc/meminfo\n",
      "    as a dictionary '''\n",
      "    meminfo=OrderedDict()\n",
      "\n",
      "    with open('/proc/meminfo') as f:\n",
      "        for line in f:\n",
      "            meminfo[line.split(':')[0]] = line.split(':')[1].strip()\n",
      "    return meminfo\n",
      "\n",
      "if __name__=='__main__':\n",
      "    #print(meminfo())\n",
      "    \n",
      "    meminfo = meminfo()\n",
      "    print('Total memory: {0}'.format(meminfo['MemTotal']))\n",
      "    print('Free memory: {0}'.format(meminfo['MemFree']))"
     ],
     "language": "python",
     "metadata": {},
     "outputs": [
      {
       "output_type": "stream",
       "stream": "stdout",
       "text": [
        "Total memory: 8067212 kB\n",
        "Free memory: 6618336 kB\n"
       ]
      }
     ],
     "prompt_number": 6
    },
    {
     "cell_type": "markdown",
     "metadata": {},
     "source": [
      "As earlier, you could also access any specific information you are looking for by using that as a key (shown in the if __name__==__main__ block). "
     ]
    },
    {
     "cell_type": "heading",
     "level": 2,
     "metadata": {},
     "source": [
      "Network Statistics"
     ]
    },
    {
     "cell_type": "markdown",
     "metadata": {},
     "source": [
      "Next, we explore the network devices on our computer system. We will retrieve the network interfaces on the system and the data bytes sent and recieved by them since your system reboot. The\u00a0`/proc/net/dev`\u00a0file makes this information available. If you examine the contents of this file, you will notice that the first two lines contain header information - i.e. the first column of this file is the network interface name, the second and the third columns display information about the received and the transmitted bytes (such as total bytes sent, number of packets, errors, etc.). Our interest here is to extract the total data sent and recieved by the different network devices. The next listing shows how we can extract this information from\u00a0`/proc/net/dev`:"
     ]
    },
    {
     "cell_type": "code",
     "collapsed": false,
     "input": [
      "#!/usr/bin/env python3\n",
      "from collections import namedtuple\n",
      "\n",
      "def netdevs():\n",
      "    ''' RX and TX bytes for each of the network devices '''\n",
      "\n",
      "    with open('/proc/net/dev') as f:\n",
      "        net_dump = f.readlines()\n",
      "    \n",
      "    device_data={}\n",
      "    data = namedtuple('data',['rx','tx'])\n",
      "    for line in net_dump[2:]:\n",
      "        line = line.split(':')\n",
      "        if line[0].strip() != 'lo':\n",
      "            device_data[line[0].strip()] = data(float(line[1].split()[0])/(1024.0*1024.0), \n",
      "                                                float(line[1].split()[8])/(1024.0*1024.0))\n",
      "    \n",
      "    return device_data\n",
      "\n",
      "if __name__=='__main__':\n",
      "    \n",
      "    netdevs = netdevs()\n",
      "    for dev in netdevs.keys():\n",
      "        print('{0}: {1} MiB {2} MiB'.format(dev, netdevs[dev].rx, netdevs[dev].tx))\n",
      "    "
     ],
     "language": "python",
     "metadata": {},
     "outputs": [
      {
       "output_type": "stream",
       "stream": "stdout",
       "text": [
        "sit0: 0.0 MiB 0.0 MiB\n",
        "enp6s0: 37.833741188049316 MiB 1.5722541809082031 MiB\n",
        "wlp3s0: 1.030217170715332 MiB 0.009185791015625 MiB\n"
       ]
      }
     ],
     "prompt_number": 7
    },
    {
     "cell_type": "markdown",
     "metadata": {},
     "source": [
      "You could probably couple this with a persistent data storage mechanism to write your own data usage monitoring program."
     ]
    },
    {
     "cell_type": "heading",
     "level": 2,
     "metadata": {},
     "source": [
      "Processes"
     ]
    },
    {
     "cell_type": "markdown",
     "metadata": {},
     "source": [
      "The\u00a0`/proc`\u00a0directory also contains a directory each for all the running processes. The directory names are the same as the process IDs for these processes. Hence, if you scan\u00a0`/proc`\u00a0for all directories which have digits as their names, you will have a list of process IDs of all the currently running processes. The function\u00a0`process_list()`\u00a0in the next listing returns a list with process IDs of all the currently running processes. The length of this list will hence be the total number of processes running on the system as you will see when you execute the above program."
     ]
    },
    {
     "cell_type": "code",
     "collapsed": false,
     "input": [
      "#!/usr/bin/env python3\n",
      "\"\"\"\n",
      " List of all process IDs currently active\n",
      "\"\"\"\n",
      "\n",
      "\n",
      "import os\n",
      "def process_list():\n",
      "\n",
      "    pids = []\n",
      "    for subdir in os.listdir('/proc'):\n",
      "        if subdir.isdigit():\n",
      "            pids.append(subdir)\n",
      "\n",
      "    return pids\n",
      "\n",
      "\n",
      "if __name__=='__main__':\n",
      "\n",
      "    pids = process_list()\n",
      "    print('Total number of running processes:: {0}'.format(len(pids))) \n",
      "    for pid in pids:\n",
      "        print(os.getpgid(int(pid)))\n",
      "    "
     ],
     "language": "python",
     "metadata": {},
     "outputs": [
      {
       "output_type": "stream",
       "stream": "stdout",
       "text": [
        "Total number of running processes:: 178\n",
        "1\n",
        "0\n",
        "0\n",
        "0\n",
        "0\n",
        "0\n",
        "0\n",
        "0\n",
        "0\n",
        "0\n",
        "0\n",
        "0\n",
        "0\n",
        "0\n",
        "0\n",
        "0\n",
        "0\n",
        "0\n",
        "0\n",
        "0\n",
        "0\n",
        "0\n",
        "0\n",
        "0\n",
        "0\n",
        "0\n",
        "0\n",
        "0\n",
        "0\n",
        "0\n",
        "0\n",
        "0\n",
        "0\n",
        "0\n",
        "0\n",
        "0\n",
        "0\n",
        "0\n",
        "0\n",
        "0\n",
        "0\n",
        "0\n",
        "0\n",
        "0\n",
        "0\n",
        "0\n",
        "0\n",
        "0\n",
        "0\n",
        "0\n",
        "0\n",
        "0\n",
        "0\n",
        "0\n",
        "0\n",
        "0\n",
        "0\n",
        "0\n",
        "0\n",
        "0\n",
        "0\n",
        "0\n",
        "0\n",
        "0\n",
        "0\n",
        "0\n",
        "0\n",
        "0\n",
        "0\n",
        "0\n",
        "0\n",
        "0\n",
        "0\n",
        "0\n",
        "0\n",
        "0\n",
        "0\n",
        "0\n",
        "0\n",
        "0\n",
        "0\n",
        "0\n",
        "0\n",
        "0\n",
        "0\n",
        "0\n",
        "0\n",
        "0\n",
        "0\n",
        "0\n",
        "0\n",
        "0\n",
        "0\n",
        "0\n",
        "0\n",
        "0\n",
        "0\n",
        "0\n",
        "0\n",
        "0\n",
        "0\n",
        "1873\n",
        "0\n",
        "1904\n",
        "0\n",
        "0\n",
        "0\n",
        "0\n",
        "0\n",
        "0\n",
        "2002\n",
        "2003\n",
        "2004\n",
        "2005\n",
        "2007\n",
        "2009\n",
        "2010\n",
        "2011\n",
        "2016\n",
        "2027\n",
        "2030\n",
        "2039\n",
        "2040\n",
        "2040\n",
        "2044\n",
        "2046\n",
        "2048\n",
        "2048\n",
        "2011\n",
        "2011\n",
        "2056\n",
        "2056\n",
        "2011\n",
        "2011\n",
        "2011\n",
        "2056\n",
        "2011\n",
        "2092\n",
        "2011\n",
        "2056\n",
        "2056\n",
        "2011\n",
        "2103\n",
        "2011\n",
        "2011\n",
        "2011\n",
        "2011\n",
        "2011\n",
        "2011\n",
        "2011\n",
        "0\n",
        "0\n",
        "2056\n",
        "2009\n",
        "2056\n",
        "2056\n",
        "2220\n",
        "2056\n",
        "2056\n",
        "2056\n",
        "2056\n",
        "2011\n",
        "2011\n",
        "2056\n",
        "0\n",
        "0\n",
        "2867\n",
        "0\n",
        "0\n",
        "0\n",
        "2011\n",
        "2011\n",
        "3703\n",
        "3714\n",
        "2056\n",
        "3714\n",
        "0\n",
        "0\n"
       ]
      }
     ],
     "prompt_number": 16
    },
    {
     "cell_type": "markdown",
     "metadata": {},
     "source": [
      "Each of the process directories contain number of other files and directories which contain various information about the invoking command of the process, the shared libraries its using, and others."
     ]
    },
    {
     "cell_type": "heading",
     "level": 2,
     "metadata": {},
     "source": [
      "Python Ressources"
     ]
    },
    {
     "cell_type": "markdown",
     "metadata": {},
     "source": [
      "  * [Lists][10]\n",
      "  * [Tuples][11]\n",
      "  * [Namedtuples][12]\n",
      "  * [OrderedDict][13]\n",
      "  * [split()][14]\n",
      "  * [strip() rstrip() and other string methods][15]\n",
      "  * [Reading and writing files][16]\n",
      "  * [os module][17]\n",
      "  * [platform module][18]\n",
      "  \n",
      "\n",
      "   [10]: http://docs.python.org/2/tutorial/introduction.html#lists\n",
      "   [11]: http://docs.python.org/2/tutorial/datastructures.html#tuples-and-sequences\n",
      "   [12]: http://docs.python.org/2/library/collections.html#collections.namedtuple\n",
      "   [13]: http://docs.python.org/2/library/collections.html#collections.OrderedDict\n",
      "   [14]: http://docs.python.org/2/library/stdtypes.html#str.split\n",
      "   [15]: http://docs.python.org/2/library/stdtypes.html#string-methods\n",
      "   [16]: http://docs.python.org/2/tutorial/inputoutput.html#reading-and-writing-files\n",
      "   [17]: http://docs.python.org/2.7/library/os.html\n",
      "   [18]: http://docs.python.org/2.7/library/platform.html"
     ]
    }
   ],
   "metadata": {}
  }
 ]
}