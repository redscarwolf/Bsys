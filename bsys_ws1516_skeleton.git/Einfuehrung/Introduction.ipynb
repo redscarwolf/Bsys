{
 "metadata": {
  "name": ""
 },
 "nbformat": 3,
 "nbformat_minor": 0,
 "worksheets": [
  {
   "cells": [
    {
     "cell_type": "heading",
     "level": 1,
     "metadata": {
      "slideshow": {
       "slide_type": "slide"
      }
     },
     "source": [
      "Python Basics lernen in einer Stunde "
     ]
    },
    {
     "cell_type": "heading",
     "level": 2,
     "metadata": {
      "slideshow": {
       "slide_type": "slide"
      }
     },
     "source": [
      "Die Sprache Python"
     ]
    },
    {
     "cell_type": "heading",
     "level": 3,
     "metadata": {},
     "source": [
      "Ziele"
     ]
    },
    {
     "cell_type": "markdown",
     "metadata": {},
     "source": [
      "Python ist eine popul\u00e4re Open Source, cross-platform Sprache. Sie geh\u00f6rt zur Familie der dynamischen Sprache wie z.B. Javascript, Ruby, Lisp oder Perl. \n",
      "\n",
      "Wikipedia: \"Python wurde mit dem Ziel entworfen, m\u00f6glichst einfach und \u00fcbersichtlich zu sein. Dies soll durch zwei Ma\u00dfnahmen erreicht werden: \n",
      "\n",
      "- Zum einen kommt die Sprache mit **relativ wenigen Schl\u00fcsselw\u00f6rtern** aus,\n",
      "- zum anderen ist die **Syntax reduziert** und auf **\u00dcbersichtlichkeit** optimiert.\n",
      "\n",
      "Durch die M\u00f6glichkeit, auch Programme **anderer Sprachen als Modul einzubetten**, werden viele Nischen in der Programmierung abgedeckt. Bei Bedarf lassen sich so beispielsweise zeitkritische Teile durch in maschinenn\u00e4heren Sprachen, wie z. B. C, programmierte Routinen ersetzen, oder Python kann als Skriptsprache eines anderen Programms dienen (z. B. Blender, Cinema 4D, GIMP, Maya, OpenOffice.org, PyMOL, SPSS, KiCad etc.).\n",
      "\n",
      "Python ist eine **Multiparadigmensprache**. Das hei\u00dft, Python zwingt den Programmierer nicht zu einem einzigen bestimmten Programmierparadigma, sondern erlaubt es, das f\u00fcr die jeweilige Aufgabe am besten geeignete Paradigma zu w\u00e4hlen. Objektorientierte und strukturierte Programmierung werden vollst\u00e4ndig unterst\u00fctzt, weiterhin gibt es Spracheigenschaften f\u00fcr funktionale und aspektorientierte Programmierung.\""
     ]
    },
    {
     "cell_type": "markdown",
     "metadata": {
      "slideshow": {
       "slide_type": "fragment"
      }
     },
     "source": [
      "Skriptsprachen sind in der Regel Interpretersprachen und im Gegensatz zu konventionellen Programmiersprachen normalerweise **loosely-typed**. Das heisst, dass in diesen Sprachen kein elaboriertes Datentyp-System existiert. Variablen m\u00fcssen in der Regel nicht deklariert werden und werden bei einer Zuweisung automatisch angelegt. Erst zur Laufzeit bekommen Variablen einen Typ wie *int*, *string*, .... Variablen zeigen erst zur Laufzeit auf einen Wert und dabei wird der Typ benutzt, der gerade ben\u00f6tigt wird.\n",
      "\n",
      "In der Abbildung ist eine Variable x dargestellt, die zuerst auf eine *int* Variable zeigt und dann auf einen *string*. Die Variable x hat selbst keinen Typ, aber alles auf was sie zeigt hat einen Typ."
     ]
    },
    {
     "cell_type": "markdown",
     "metadata": {},
     "source": [
      "![Variablen](files/python-var.png \"Variablen\")"
     ]
    },
    {
     "cell_type": "markdown",
     "metadata": {},
     "source": [
      "Variablen sind in Python somit nur typlose Referenzen auf Objekte.\n",
      "\n",
      "In C/C++ ist der Typ in Variablen zu jeder Zeit bekannt, man spricht von einer **starken Typisierung (strongly typed)**. In Python k\u00f6nnte bei dem Codefragment:\n",
      "\n",
      "    x = x + x\n",
      "  \n",
      "x vom Typ *int*, *string* oder was auch immer sein. Da keine Typ Information in Python durch den Code vorab vorhanden ist, muss sich der Python Interpreter jede Variable zur Laufzeit in jeder Zeile anschauen und analysieren. Das macht Python langsamer als C/C++, daf\u00fcr aber sehr flexibel. Es fehlen somit die Vor- aber auch die Nachteile der starken Typisierung. \n",
      "\n",
      "Ein Just in Time Compiler' umschifft elegant die Klippen einer fehlenden starken Typisierung, da f\u00fcr Code Fragmente nativer Code compiliert wird und somit die Ausf\u00fchrung schneller wird (vgl. Java). F\u00fcr Python stellt das PyPy Projekt einen Just in Time Compiler zu Verf\u00fcgung."
     ]
    },
    {
     "cell_type": "heading",
     "level": 3,
     "metadata": {},
     "source": [
      "Python Version 3"
     ]
    },
    {
     "cell_type": "markdown",
     "metadata": {},
     "source": [
      "Python 3.0 ist die erste Version, bei der Abw\u00e4rtskompatibilit\u00e4t nicht mehr gegeben ist. Installieren Sie somit auf Ihrem eigenen Rechner eine aktuelle Python 3 Version (z.B. 3.2.x oder 3.3.x oder h\u00f6her) und vergessen Sie nicht diese Version durch den Aufruf von **python3** anstatt **python** zu benutzen "
     ]
    },
    {
     "cell_type": "heading",
     "level": 3,
     "metadata": {
      "slideshow": {
       "slide_type": "slide"
      }
     },
     "source": [
      "ipython"
     ]
    },
    {
     "cell_type": "markdown",
     "metadata": {
      "slideshow": {
       "slide_type": "fragment"
      }
     },
     "source": [
      "Die installierten Python Interpreter k\u00f6nnen Sie von der Kommandozeile folgendermassen aufzurufen:\n",
      "\n",
      "- **python3**\n",
      "- **ipython3**\n",
      "\n",
      "Komfortabler ist es mit ipython3 Interpreter statt dem python3 Interpreter zu arbeiten.\n",
      "\n",
      "Das Tutorial zu [ipython](http://ipython.org/ipython-doc/dev/interactive/tutorial.html \"ipython\") selbst zeigt Ihnen einige Vorteile diese Interpreters.\n",
      "\n",
      "ipython3 bietet auch den Vorteil, interaktiv im Browser mit dem Interpreter zu arbeiten. Starten Sie dazu in der Konsole:\n",
      "\n",
      "    ipython3 notebook\n",
      "\n",
      "\u00dcber den Browser kann eine Hilfe zu ipython und dem ipython notebook Modus aus der Men\u00fczeile aufgerufen werden."
     ]
    },
    {
     "cell_type": "heading",
     "level": 2,
     "metadata": {
      "slideshow": {
       "slide_type": "slide"
      }
     },
     "source": [
      "Interpreter und Variablen"
     ]
    },
    {
     "cell_type": "markdown",
     "metadata": {
      "slideshow": {
       "slide_type": "fragment"
      }
     },
     "source": [
      "- Der Interpreter f\u00fchrt eine 'read-eval-print' Schleife mit allem aus was eingetippt wird.\n",
      "- Variablen m\u00fcssen nicht deklariert werden oder einen festen Typ haben.\n",
      "- Das Lesen einer Variable die keinen Wert hat f\u00fchrt zu einem Runtime Fehler.\n",
      "- Python hat einen garbage collector (GC), welcher nicht mehr benutzen Speicher automatisch freigibt."
     ]
    },
    {
     "cell_type": "code",
     "collapsed": false,
     "input": [
      "a='hello'\n",
      "print(a)\n",
      "a=6\n",
      "print(a)\n",
      "#b   #comment this out "
     ],
     "language": "python",
     "metadata": {
      "slideshow": {
       "slide_type": "fragment"
      }
     },
     "outputs": [
      {
       "output_type": "stream",
       "stream": "stdout",
       "text": [
        "hello\n",
        "6\n"
       ]
      }
     ],
     "prompt_number": 18
    },
    {
     "cell_type": "heading",
     "level": 2,
     "metadata": {},
     "source": [
      "Formatierte print() Funktion"
     ]
    },
    {
     "cell_type": "markdown",
     "metadata": {},
     "source": [
      "- Eine formatierte Ausgabe erreicht man mit dem {} Platzhalter und der .format Funktion.\n",
      "- Die Platzhalter starten mit Index 0, welches dem 1. Element der format() Funktion entspricht"
     ]
    },
    {
     "cell_type": "code",
     "collapsed": false,
     "input": [
      "name1='HAL'\n",
      "name2='Dave'\n",
      "print('{0}: Good Morning {1}'.format(name1,name2))"
     ],
     "language": "python",
     "metadata": {},
     "outputs": [
      {
       "output_type": "stream",
       "stream": "stdout",
       "text": [
        "HAL: Good Morning Dave\n"
       ]
      }
     ],
     "prompt_number": 19
    },
    {
     "cell_type": "markdown",
     "metadata": {},
     "source": [
      "- Zahlen lassen sich \u00e4hnlich formatiert darstellen wie in C"
     ]
    },
    {
     "cell_type": "code",
     "collapsed": false,
     "input": [
      "zahl1=1.346567\n",
      "zahl2=3.1415\n",
      "print('Formatierte Zahlen: {0:3.3f}; {1:3.1f}'.format(zahl1,zahl2))"
     ],
     "language": "python",
     "metadata": {},
     "outputs": [
      {
       "output_type": "stream",
       "stream": "stdout",
       "text": [
        "Formatierte Zahlen: 1.347; 3.1\n"
       ]
      }
     ],
     "prompt_number": 20
    },
    {
     "cell_type": "markdown",
     "metadata": {},
     "source": [
      "- Es gibt noch weitere und auch k\u00fcrzere Darstellungsformen f\u00fcr formatierte Ausgaben, jedoch entspricht die *format()* Funktion dem 'Python Way of Coding'."
     ]
    },
    {
     "cell_type": "heading",
     "level": 2,
     "metadata": {
      "slideshow": {
       "slide_type": "slide"
      }
     },
     "source": [
      "Strings"
     ]
    },
    {
     "cell_type": "markdown",
     "metadata": {
      "slideshow": {
       "slide_type": "fragment"
      }
     },
     "source": [
      "- Strings werden mit ' oder \" oder \"\"\" dargestellt und sind unver\u00e4nderbare Datenobjekte (immutable). \n",
      "- Die len() Funktion liefert die L\u00e4nge aller Arten von Python Datentypen, somit auch von Strings (d.h. die Anzahl der Zeichen der Zeichenkette). \n",
      "- Mit s[0] kann auf individuelle Characters eines Strings zugegriffen werden. \n",
      "- Es gibt keinen separaten Character Datentyp, nur ein String der L\u00e4nge 1."
     ]
    },
    {
     "cell_type": "code",
     "collapsed": false,
     "input": [
      "a = 'hello'\n",
      "print(len(a))\n",
      "print(a[0])\n",
      "print(a + '!!!')  ## + works\n",
      "print(a + str(4))  ## must convert int->str to use with +\n",
      "print(a.upper())  ## .upper()/.lower() methods, original unchanged\n",
      "a.isalpha()  ## True if all chars are alphabetic"
     ],
     "language": "python",
     "metadata": {
      "slideshow": {
       "slide_type": "fragment"
      }
     },
     "outputs": [
      {
       "output_type": "stream",
       "stream": "stdout",
       "text": [
        "5\n",
        "h\n",
        "hello!!!\n",
        "hello4\n",
        "HELLO\n"
       ]
      },
      {
       "metadata": {},
       "output_type": "pyout",
       "prompt_number": 21,
       "text": [
        "True"
       ]
      }
     ],
     "prompt_number": 21
    },
    {
     "cell_type": "heading",
     "level": 2,
     "metadata": {},
     "source": [
      "Lists [ ], For Loop"
     ]
    },
    {
     "cell_type": "markdown",
     "metadata": {},
     "source": [
      "- Eine Liste l\u00e4sst sich erzeugen, in dem man eine Aufz\u00e4hlung ihrer Elemente in eckige Klammern [] schreibt.\n",
      "- Listen k\u00f6nnen alle Arten von Daten enthalten.\n",
      "- Mit der len() Funktionen erhalten Sie die Anzahl der Listenelemente.\n",
      "- \u00dcber den Index [] Zugriff k\u00f6nnen einzelne Elemente der Liste gelesen und ge\u00e4ndert werden. "
     ]
    },
    {
     "cell_type": "code",
     "collapsed": false,
     "input": [
      "a = ['hello', 'and', 'goodbye']\n",
      "print(len(a))\n",
      "print('-1-')\n",
      "print(a[0])\n",
      "print('-2-')\n",
      "for word in a:\n",
      "    print(word) \n",
      "print('-3-')\n",
      "print('goodbye' in a)  ## use 'in' by itself to test containment"
     ],
     "language": "python",
     "metadata": {},
     "outputs": [
      {
       "output_type": "stream",
       "stream": "stdout",
       "text": [
        "3\n",
        "-1-\n",
        "hello\n",
        "-2-\n",
        "hello\n",
        "and\n",
        "goodbye\n",
        "-3-\n",
        "True\n"
       ]
      }
     ],
     "prompt_number": 22
    },
    {
     "cell_type": "heading",
     "level": 3,
     "metadata": {},
     "source": [
      "System Shell Kommandos"
     ]
    },
    {
     "cell_type": "markdown",
     "metadata": {},
     "source": [
      "Um in ipython ein Kommando auf der System Shell ablaufen zu lassen, muss lediglich ein ! vor das Kommando geschrieben werden:\n",
      "\n",
      "    !ping google.de\n",
      "\n",
      "Die Ausgabe des Kommandos kann auch in eine Python Liste geschrieben werden:\n",
      "\n",
      "    files = !ls. "
     ]
    },
    {
     "cell_type": "code",
     "collapsed": false,
     "input": [
      "file= !ls\n",
      "file"
     ],
     "language": "python",
     "metadata": {},
     "outputs": [
      {
       "metadata": {},
       "output_type": "pyout",
       "prompt_number": 23,
       "text": [
        "['Arguments_DirFileSearch.ipynb',\n",
        " 'Introduction.ipynb',\n",
        " 'Misc.ipynb',\n",
        " 'Platform.ipynb',\n",
        " 'Progress Bars.ipynb',\n",
        " 'Script Magics.ipynb',\n",
        " 'StartupDebian.sh',\n",
        " 'Tutorial 1.ipynb',\n",
        " 'python-custom-sort.png',\n",
        " 'python-dict.png',\n",
        " 'python-var.png',\n",
        " 'textdatei',\n",
        " 'voldemort']"
       ]
      }
     ],
     "prompt_number": 23
    },
    {
     "cell_type": "markdown",
     "metadata": {},
     "source": [
      "Um eine Python Variable an das Kommando als Parameter zu \u00fcbergeben, muss der Python Variablen lediglich ein $ Zeichen vorangestellt werden:    \n",
      "\n",
      "    $: !grep -rF $pattern ipython/*.\n",
      "\n",
      "oder\n",
      "\n",
      "    pattern='*.py'  \n",
      "    !ls ../$pattern\n",
      "    "
     ]
    },
    {
     "cell_type": "heading",
     "level": 3,
     "metadata": {},
     "source": [
      "Python 'Einr\u00fcck'-Syntax"
     ]
    },
    {
     "cell_type": "markdown",
     "metadata": {},
     "source": [
      "- Bisher haben wir fast nur einzeilige Anweisungen betrachtet, die direkt zu Beginn jeder Zeile stehen.\n",
      "- Eine Anweisung l\u00e4sst sich in Python in den Anweisungskopf und Anweisungsk\u00f6rper unterteilen.\n",
      "- Betrachten Sie dazu die Syntax der 'for' Anweisung in Python: \n",
      "    - for **var** in **list**:\n",
      "    - Alle einger\u00fcckten Zeilen hinter dem Doppelpunkt der **for** Zeile geh\u00f6ren zu diesem Anweisungsblock. \n",
      "- \u00dcber das Einr\u00fccken (indentation) wird somit ein zusammenh\u00e4ngender Code-Block definiert, der in anderen Sprachen (C, Java) \u00fcber die {} zu klammern ist. \n",
      "- Einr\u00fccken zu m\u00fcssen ist zuerst ungew\u00f6hnlich, f\u00fchrt aber nach kurzer Eingew\u00f6hnungszeit zu strukturiertem und gut lesbaren Code.\n",
      "    - Am Besten Sie benutzen **Leerzeichen** anstatt TABS. Konfigurieren Sie Ihren Editor so, dass er Spaces anstatt Tabs benutzt, auch wenn Sie den Tab \u00fcber die Konsole benutzen.\n",
      "    - Eine Einr\u00fccktiefe (Indent) von **4 Spaces** (TAB=4Spaces) ist zu empfehlen."
     ]
    },
    {
     "cell_type": "heading",
     "level": 3,
     "metadata": {},
     "source": [
      "*append()* und *split()*\n"
     ]
    },
    {
     "cell_type": "markdown",
     "metadata": {},
     "source": [
      "- Mit der .append() Funktion k\u00f6nnen Elemente zur Liste hinzugef\u00fcgt werden.\n",
      "- In der offiziellen Python Dokumentation finden Sie weitere Funktionen f\u00fcr den Umgang mit Listen: \n",
      "    - http://docs.python.org/tutorial/datastructures.html"
     ]
    },
    {
     "cell_type": "code",
     "collapsed": false,
     "input": [
      "## .append() appends to the end\n",
      "b = []   # empty\n",
      "b.append(1)\n",
      "b.append(2)\n",
      "print(b)"
     ],
     "language": "python",
     "metadata": {},
     "outputs": [
      {
       "output_type": "stream",
       "stream": "stdout",
       "text": [
        "[1, 2]\n"
       ]
      }
     ],
     "prompt_number": 24
    },
    {
     "cell_type": "code",
     "collapsed": false,
     "input": [
      "## \"slice\" syntax a[1:] is sublist starting at index 1\n",
      "print(a[1:])\n",
      "\n",
      "## slice stops before index 2\n",
      "print(a[:2])\n",
      "\n",
      "## .split() on a string splits on whitespace to return a list\n",
      "'hello and goodbye'.split()"
     ],
     "language": "python",
     "metadata": {},
     "outputs": [
      {
       "output_type": "stream",
       "stream": "stdout",
       "text": [
        "['and', 'goodbye']\n",
        "['hello', 'and']\n"
       ]
      },
      {
       "metadata": {},
       "output_type": "pyout",
       "prompt_number": 25,
       "text": [
        "['hello', 'and', 'goodbye']"
       ]
      }
     ],
     "prompt_number": 25
    },
    {
     "cell_type": "heading",
     "level": 2,
     "metadata": {},
     "source": [
      "if/then in einem Beispiel Script"
     ]
    },
    {
     "cell_type": "markdown",
     "metadata": {},
     "source": [
      "Die folgende Datei **cat.py** kann als Standalone Skript in Ihrer Shell ausgef\u00fchrt werden. In der ersten Zeile wird f\u00fcr den Programmstarter die Information hinterlegt, welchen Interpreter er f\u00fcr das Skript starten soll: \n",
      "\n",
      "    #!/usr/bin/env python3 -tt\n",
      "\n",
      "Wird das Skript ausgef\u00fchrt, so wird auf dem System nach dem Python Interpreter der Version 3 gesucht und dieser interpretiert dann das Skript. Damit das Skript ausgef\u00fchrt werden kann, muss noch das Executable Bit f\u00fcr die Datei gesetzt werden. Der Befehl auf der Kommandozeile daf\u00fcr lautet:\n",
      "\n",
      "    chmod a+x cat.py\n",
      "    \n",
      "Damit das Programm auf der Shell Ihre Kommandozeile interpretiert, m\u00fcssen Sie die Zeile:\n",
      ">args = sys.argv[1:] \n",
      "\n",
      "aktivieren (Kommentarzeichen l\u00f6schen) und die folgende Zeile\n",
      ">args = ['textdatei']\n",
      "\n",
      "auskommentieren. Letzteres wird benutzt, um das Skript auch in ipython notebook Modul vorf\u00fchren zu k\u00f6nnen. \n",
      "\n",
      "Der Parameter 'textdatei' funktioniert, da in diesem ipython Notebook Ordner eine Datei mit Namen 'textdatei' liegt. Sie k\u00f6nnen sich den Inhalt des Verzeichnisses mit dem ipython Kommando **ls** ausgeben lassen."
     ]
    },
    {
     "cell_type": "markdown",
     "metadata": {},
     "source": [
      "Legen Sie sich zum Testen eine Text Datei an. In der Demo wird die Datei 'textdatei' benutzt, welche im gleichem Verzeichnis liegt wie das ipython Notebook File."
     ]
    },
    {
     "cell_type": "code",
     "collapsed": false,
     "input": [
      "#!/usr/bin/env python3 -tt\n",
      "\"\"\"\n",
      "cat.py -- just a little example python program\n",
      "showing some common syntax. This program works.\n",
      "\n",
      "-tt flag above detects space/tab indent problems\n",
      "\"\"\"\n",
      "\n",
      "# sys is one of many available modules of library code, import to use.\n",
      "# sys.argv is the list of command line arguments.\n",
      "import sys\n",
      "\n",
      "# defines a global variable\n",
      "a = 123\n",
      "\n",
      "\n",
      "# defines a 'cat' function which takes a filename\n",
      "def cat(filename):\n",
      "    \"\"\"Given filename, print its text contents.\"\"\"\n",
      "    print(filename, '=======')\n",
      "    f = open(filename, 'r')\n",
      "    for line in f:  # goes through a text file line by line\n",
      "        print(line),   # trailing comma inhibits the ending print-newline\n",
      "    # alternative, read the whole file into a single string:\n",
      "    # text = f.read()\n",
      "    f.close()\n",
      "\n",
      "\n",
      "def main():\n",
      "    # sys.argv contains command line arguments.\n",
      "    # This assigns a list of all but the first arg into a local 'args' var.\n",
      "    \n",
      "    #args = sys.argv[1:] # uncomment this line in standalone script!\n",
      "    args = ['textdatei'] # comment this in standalone script! It's here for demoing in ipython notebook mode\n",
      "    \n",
      "    # important syntax -- loop of variable 'filename' over the args list.\n",
      "    for filename in args:\n",
      "        # detect scary filenames: if/else and/or/not\n",
      "        if filename == 'voldemort' or filename == 'vader':\n",
      "            print('this file is very worrying')\n",
      "            cat(filenane, 123, bad_variable)\n",
      "            # important point: errors in above line only caught if it is run\n",
      "        else:\n",
      "            # regular case\n",
      "            cat(filename)\n",
      "    # this print is outside the loop, due to its indentation\n",
      "    print('all done')\n",
      "\n",
      "\n",
      "# Standard boilerplate at end of file to call main() function.\n",
      "if __name__ == '__main__':\n",
      "    main()\n"
     ],
     "language": "python",
     "metadata": {},
     "outputs": [
      {
       "output_type": "stream",
       "stream": "stdout",
       "text": [
        "textdatei =======\n",
        "Erste Zeile\n",
        "\n",
        "Zweite Zeile\n",
        "\n",
        "Dritte Zeile\n",
        "\n",
        "all done\n"
       ]
      }
     ],
     "prompt_number": 27
    },
    {
     "cell_type": "markdown",
     "metadata": {},
     "source": [
      "Beachten Sie die **Kommentare** im Skript, um mehr \u00fcber die **Definition von Funktionen** zu erfahren. \n",
      "\n",
      "Um ein externes Python Skript in ipython zu starten wird das 'magic' Kommando %run benutzt. "
     ]
    },
    {
     "cell_type": "code",
     "collapsed": false,
     "input": [
      "%run ../cat.py textdatei"
     ],
     "language": "python",
     "metadata": {},
     "outputs": [
      {
       "output_type": "stream",
       "stream": "stdout",
       "text": [
        "textdatei =======\n",
        "Erste Zeile\n",
        "\n",
        "Zweite Zeile\n",
        "\n",
        "Dritte Zeile\n",
        "\n",
        "all done\n"
       ]
      }
     ],
     "prompt_number": 28
    },
    {
     "cell_type": "markdown",
     "metadata": {},
     "source": [
      "Mehr zu den magic Kommandos liefert der Aufruf %magic selbst."
     ]
    },
    {
     "cell_type": "code",
     "collapsed": false,
     "input": [
      "%magic"
     ],
     "language": "python",
     "metadata": {},
     "outputs": [],
     "prompt_number": 29
    },
    {
     "cell_type": "markdown",
     "metadata": {},
     "source": [
      "oder ein passendes ipython File dazu unter [nbviewer.ipython.org](http://nbviewer.ipython.org/github/ipython/ipython/blob/master/examples/notebooks/Cell%20Magics.ipynb \"nbviewer.ipython.org\")"
     ]
    },
    {
     "cell_type": "heading",
     "level": 3,
     "metadata": {},
     "source": [
      "Dokumentation "
     ]
    },
    {
     "cell_type": "markdown",
     "metadata": {},
     "source": [
      "PyDOC ist ein Tool zur Erstellung einer eigenen Dokumentation in Python. Es kann auch benutzt werden, um sich die Informationen aller installierten Python Module anzuschauen\n",
      "\n",
      "Um PyDOC mit dem eigenen Python Skript zu benutzen, ruft man einfach pydoc mit dem Skript als Parameter auf:\n",
      "\n",
      "    pydoc ./modulo.py\n",
      "\n",
      "Dazu m\u00fcssen im Skript vom Programmierer an definierten Stellen Doc Strings ( \"\"\" Text \"\"\"\" ) verwendet werden. Diese sind im obigen Skript **cat.py** bereits enthalten, so dass Sie Informationen \u00fcber das Modul selbst wie auch die Funktion *cat* beim Aufruf von \n",
      "\n",
      "    pydoc ./cat.py\n",
      "\n",
      "erhalten.\n",
      "\n",
      "Da pydoc selbst auch ein Python-Skript ist, k\u00f6nnen wir die Dokumentation \u00fcber das cat.py Modul \u00fcber das magic Kommand %run selbst erzeugen:"
     ]
    },
    {
     "cell_type": "code",
     "collapsed": false,
     "input": [
      "%run /usr/local/bin/pydoc3.3 ../cat.py"
     ],
     "language": "python",
     "metadata": {},
     "outputs": [
      {
       "output_type": "stream",
       "stream": "stdout",
       "text": [
        "Help on module cat:\n",
        "\n",
        "NAME\n",
        "    cat\n",
        "\n",
        "DESCRIPTION\n",
        "    cat.py -- just a little example python program\n",
        "    showing some common syntax. This program works.\n",
        "    \n",
        "    -tt flag above detects space/tab indent problems\n",
        "\n",
        "FUNCTIONS\n",
        "    cat(filename)\n",
        "        Given filename, print its text contents.\n",
        "    \n",
        "    main()\n",
        "\n",
        "DATA\n",
        "    a = 123\n",
        "\n",
        "FILE\n",
        "    /Users/maechtel/Work/lab/bsyslab/python/intro/cat.py\n",
        "\n",
        "\n"
       ]
      }
     ],
     "prompt_number": 30
    },
    {
     "cell_type": "markdown",
     "metadata": {},
     "source": [
      "Weitere Informationen zu pydoc liefert pydoc selbst, z.B. \u00fcber den Shell Aufruf:\n",
      "\n",
      "    pydoc -h"
     ]
    },
    {
     "cell_type": "code",
     "collapsed": false,
     "input": [
      "!pydoc -h"
     ],
     "language": "python",
     "metadata": {},
     "outputs": [
      {
       "output_type": "stream",
       "stream": "stdout",
       "text": [
        "pydoc - the Python documentation tool\r\n",
        "\r\n",
        "pydoc <name> ...\r\n",
        "    Show text documentation on something.  <name> may be the name of a\r\n",
        "    Python keyword, topic, function, module, or package, or a dotted\r\n",
        "    reference to a class or function within a module or module in a\r\n",
        "    package.  If <name> contains a '/', it is used as the path to a\r\n",
        "    Python source file to document. If name is 'keywords', 'topics',\r\n",
        "    or 'modules', a listing of these things is displayed.\r\n",
        "\r\n",
        "pydoc -k <keyword>\r\n",
        "    Search for a keyword in the synopsis lines of all available modules.\r\n",
        "\r\n",
        "pydoc -p <port>\r\n",
        "    Start an HTTP server on the given port on the local machine.\r\n",
        "\r\n",
        "pydoc -g\r\n",
        "    Pop up a graphical interface for finding and serving documentation.\r\n",
        "\r\n",
        "pydoc -w <name> ...\r\n",
        "    Write out the HTML documentation for a module to a file in the current\r\n",
        "    directory.  If <name> contains a '/', it is treated as a filename; if\r\n",
        "    it names a directory, documentation is written for all the contents.\r\n",
        "\r\n"
       ]
      }
     ],
     "prompt_number": 31
    },
    {
     "cell_type": "heading",
     "level": 2,
     "metadata": {},
     "source": [
      "Dictionary {} Hash Tabelle"
     ]
    },
    {
     "cell_type": "markdown",
     "metadata": {},
     "source": [
      "- Der native Python Datentyp *Dictionary* (z.B. Hash-Tabelle) wird \u00fcber die geschweiften Klammern { } definiert. \n",
      "- \u00dcber dict[key-val] kann auf Eintr\u00e4ge des dict lesend und schreibend zugegriffen werden.\n",
      "- Um ein *Dictionary* aufzubauen, startet man mit dessen Definition '{}' um dann die gew\u00fcnschten Elemente hinzuzuf\u00fcgen."
     ]
    },
    {
     "cell_type": "markdown",
     "metadata": {},
     "source": [
      "![Dictionary](files/python-dict.png \"Dictionary\")"
     ]
    },
    {
     "cell_type": "code",
     "collapsed": false,
     "input": [
      "dict = {}\n",
      "dict['a'] = 'alpha'  # assign key 'a' to have value 'alpha'\n",
      "dict['o'] = 'omega'\n",
      "dict['g'] = 'gamma'\n",
      "## nice for debugging that you can dump out our data like this\n",
      "print(dict)"
     ],
     "language": "python",
     "metadata": {},
     "outputs": [
      {
       "output_type": "stream",
       "stream": "stdout",
       "text": [
        "{'g': 'gamma', 'a': 'alpha', 'o': 'omega'}\n"
       ]
      }
     ],
     "prompt_number": 32
    },
    {
     "cell_type": "code",
     "collapsed": false,
     "input": [
      "print(dict['a'])  ## lookup key 'a'\n",
      "\n",
      "print (dict['x'])  ## lookup key 'x' - error"
     ],
     "language": "python",
     "metadata": {},
     "outputs": [
      {
       "ename": "KeyError",
       "evalue": "'x'",
       "output_type": "pyerr",
       "traceback": [
        "\u001b[0;31m---------------------------------------------------------------------------\u001b[0m\n\u001b[0;31mKeyError\u001b[0m                                  Traceback (most recent call last)",
        "\u001b[0;32m<ipython-input-33-c62ccede6c64>\u001b[0m in \u001b[0;36m<module>\u001b[0;34m()\u001b[0m\n\u001b[1;32m      1\u001b[0m \u001b[0mprint\u001b[0m\u001b[0;34m(\u001b[0m\u001b[0mdict\u001b[0m\u001b[0;34m[\u001b[0m\u001b[0;34m'a'\u001b[0m\u001b[0;34m]\u001b[0m\u001b[0;34m)\u001b[0m  \u001b[0;31m## lookup key 'a'\u001b[0m\u001b[0;34m\u001b[0m\u001b[0m\n\u001b[1;32m      2\u001b[0m \u001b[0;34m\u001b[0m\u001b[0m\n\u001b[0;32m----> 3\u001b[0;31m \u001b[0mprint\u001b[0m \u001b[0;34m(\u001b[0m\u001b[0mdict\u001b[0m\u001b[0;34m[\u001b[0m\u001b[0;34m'x'\u001b[0m\u001b[0;34m]\u001b[0m\u001b[0;34m)\u001b[0m  \u001b[0;31m## lookup key 'x' - error\u001b[0m\u001b[0;34m\u001b[0m\u001b[0m\n\u001b[0m",
        "\u001b[0;31mKeyError\u001b[0m: 'x'"
       ]
      },
      {
       "output_type": "stream",
       "stream": "stdout",
       "text": [
        "alpha\n"
       ]
      }
     ],
     "prompt_number": 33
    },
    {
     "cell_type": "code",
     "collapsed": false,
     "input": [
      "Bool= 'a' in dict  ## use in to test if key is present safely\n",
      "print(Bool)\n",
      "Bool= 'x' in dict\n",
      "print(Bool)"
     ],
     "language": "python",
     "metadata": {},
     "outputs": [
      {
       "output_type": "stream",
       "stream": "stdout",
       "text": [
        "True\n",
        "False\n"
       ]
      }
     ],
     "prompt_number": 35
    },
    {
     "cell_type": "code",
     "collapsed": false,
     "input": [
      "print(dict.keys())  ## .keys() returns collection of keys in random order\n",
      "print(dict.values())\n",
      "for k in dict.keys():  ## standard for loop over dict contents\n",
      "    print(k + ' -> ' + dict[k])\n",
      "dict.items()  ## dict contents as list of tuples (tuple is like a little list)"
     ],
     "language": "python",
     "metadata": {},
     "outputs": [
      {
       "output_type": "stream",
       "stream": "stdout",
       "text": [
        "dict_keys(['g', 'a', 'o'])\n",
        "dict_values(['gamma', 'alpha', 'omega'])\n",
        "g -> gamma\n",
        "a -> alpha\n",
        "o -> omega\n"
       ]
      },
      {
       "metadata": {},
       "output_type": "pyout",
       "prompt_number": 36,
       "text": [
        "dict_items([('g', 'gamma'), ('a', 'alpha'), ('o', 'omega')])"
       ]
      }
     ],
     "prompt_number": 36
    },
    {
     "cell_type": "heading",
     "level": 2,
     "metadata": {},
     "source": [
      "Sortierung"
     ]
    },
    {
     "cell_type": "markdown",
     "metadata": {},
     "source": [
      "- Die *sorted()* Funktion benutzt als Input eine List und gibt eine sortierte Liste zur\u00fcck.\n",
      "- Das optionale reverse=True Argument sortiert die Liste 'reversed'."
     ]
    },
    {
     "cell_type": "code",
     "collapsed": false,
     "input": [
      "a = ['baker', 'charlie', 'alpha']\n",
      "print(sorted(a))\n",
      "a = [42, 6, 13]\n",
      "print(sorted(a))\n",
      "print(sorted(a, reverse=True))"
     ],
     "language": "python",
     "metadata": {},
     "outputs": [
      {
       "output_type": "stream",
       "stream": "stdout",
       "text": [
        "['alpha', 'baker', 'charlie']\n",
        "[6, 13, 42]\n",
        "[42, 13, 6]\n"
       ]
      }
     ],
     "prompt_number": 3
    },
    {
     "cell_type": "heading",
     "level": 3,
     "metadata": {},
     "source": [
      "Benutzerdefinierte Suchfunktion"
     ]
    },
    {
     "cell_type": "markdown",
     "metadata": {},
     "source": [
      "- Der Python Funktion sort() kann auch eine eigene 'Sortierfunktion' \u00fcber das *key=* Element mitgegeben werden.\n",
      "- Intern erstellt die Sortierfunktion einen 'Proxy' auf Basis der *key=* Funktion, aufgrund dessen dann die Liste sortiert ausgegeben wird."
     ]
    },
    {
     "cell_type": "markdown",
     "metadata": {},
     "source": [
      "![Dictionary](files/python-custom-sort.png \"Dictionary\")"
     ]
    },
    {
     "cell_type": "markdown",
     "metadata": {},
     "source": [
      "Der Code benutzt dazu die eingebaute *len()* Funktion, um die Liste sortiert nach der L\u00e4nge auszugeben:"
     ]
    },
    {
     "cell_type": "code",
     "collapsed": false,
     "input": [
      "strs = ['ccc', 'aaaa', 'd', 'bb']\n",
      "print(sorted(strs, key=len))  ## ['d', 'bb', 'ccc', 'aaaa']"
     ],
     "language": "python",
     "metadata": {},
     "outputs": [
      {
       "output_type": "stream",
       "stream": "stdout",
       "text": [
        "['d', 'bb', 'ccc', 'aaaa']\n"
       ]
      }
     ],
     "prompt_number": 4
    },
    {
     "cell_type": "markdown",
     "metadata": {},
     "source": [
      "Nat\u00fcrlich kann auch eine eigene Funktion definiert werden. Hier wird nun eine Funktion definiert, die jeweils den 2ten Buchstaben in den Proxy liefert, wodurch dann die Liste aufgrund des 2ten Buchstaben sortiert ausgegeben werden kann."
     ]
    },
    {
     "cell_type": "code",
     "collapsed": false,
     "input": [
      "def second(word):\n",
      "    return word[1]\n",
      "\n",
      "words = ['bc', 'zb', 'az']\n",
      "print(sorted(words))  ## ['az', 'bc', 'zb']\n",
      "print(sorted(words, key=second))  ## ['zb', 'bc', 'az']"
     ],
     "language": "python",
     "metadata": {},
     "outputs": [
      {
       "output_type": "stream",
       "stream": "stdout",
       "text": [
        "['az', 'bc', 'zb']\n",
        "['zb', 'bc', 'az']\n"
       ]
      }
     ],
     "prompt_number": 5
    },
    {
     "cell_type": "heading",
     "level": 3,
     "metadata": {},
     "source": [
      "Custom Sort + Dict Beispiel"
     ]
    },
    {
     "cell_type": "markdown",
     "metadata": {},
     "source": [
      "Neben den Listen k\u00f6nnen auch Dictionaries entsprechend sortiert werden. Nehmen wir dazu an, ein Dictionary enth\u00e4lt die key/value Tuples Stadtnamen/PLZ. Nun m\u00f6chten wir die Daten nach Postleitzahl sortiert ausgeben. \n",
      " "
     ]
    },
    {
     "cell_type": "code",
     "collapsed": false,
     "input": [
      "dict = {}\n",
      "dict['palo alto'] = '94301'  # assign key 'a' to have value 'alpha'\n",
      "dict['stanford'] = '94305'\n",
      "dict['menlo park'] = '94025'\n",
      "items = dict.items()\n",
      "print(items)\n",
      "## items is a list of length-2-tuples:    "
     ],
     "language": "python",
     "metadata": {},
     "outputs": [
      {
       "output_type": "stream",
       "stream": "stdout",
       "text": [
        "dict_items([('palo alto', '94301'), ('menlo park', '94025'), ('stanford', '94305')])\n"
       ]
      }
     ],
     "prompt_number": 6
    },
    {
     "cell_type": "markdown",
     "metadata": {},
     "source": [
      "Dazu schreiben wir eine eigene Funktion, die als Input ein Tuple aus dem Dictionary bekommt und die PLZ zur\u00fcckliefert. Damit haben wir im Proxy eine Liste mit PLZ, die wir dann f\u00fcr die sortierte Ausgabe der kompletten Daten benutzen."
     ]
    },
    {
     "cell_type": "code",
     "collapsed": false,
     "input": [
      "def tuple_plz(tuple):\n",
      "    \"\"\"Returns zip from (city, zip) tuple.\"\"\"\n",
      "    return tuple[1]    "
     ],
     "language": "python",
     "metadata": {},
     "outputs": [],
     "prompt_number": 9
    },
    {
     "cell_type": "markdown",
     "metadata": {},
     "source": [
      "Diese Funktion benutzen wir dann in *sort()* als *key=*:"
     ]
    },
    {
     "cell_type": "code",
     "collapsed": false,
     "input": [
      "# change items to be sorted by zip\n",
      "items = sorted(items, key=tuple_plz)\n",
      "# Now can print them out\n",
      "for tuple in items:\n",
      "    print (tuple[0], tuple[1])"
     ],
     "language": "python",
     "metadata": {},
     "outputs": [
      {
       "output_type": "stream",
       "stream": "stdout",
       "text": [
        "menlo park 94025\n",
        "palo alto 94301\n",
        "stanford 94305\n"
       ]
      }
     ],
     "prompt_number": 11
    },
    {
     "cell_type": "heading",
     "level": 2,
     "metadata": {},
     "source": [
      "Kein Switch Statement!"
     ]
    },
    {
     "cell_type": "markdown",
     "metadata": {},
     "source": [
      "In Python gibt es kein switch statement wie beispielsweise in C oder C++. Dies kann \u00fcber ein if..elif..else Anweisung nachgebildet werden. \n",
      "\n",
      "Eine weitere M\u00f6glichkeit ist die Benutzung eines Dictionaries in der folgenden Art und Weise:"
     ]
    },
    {
     "cell_type": "code",
     "collapsed": false,
     "input": [
      "#!/usr/bin/env python\n",
      "\n",
      "\"\"\" switch.py - simulate a switch statement\n",
      "\"\"\"\n",
      "\n",
      "# Python 3 compat, necessary for 'ipython notebook' mode\n",
      "import sys\n",
      "if sys.version_info[0] >= 3:\n",
      "    raw_input = input\n",
      "\n",
      "\n",
      "def one():\n",
      "    print(\"You chose number 1\")\n",
      "\n",
      "def two():\n",
      "    print(\"You chose number 2\")\n",
      "\n",
      "def three():\n",
      "    print(\"You chose number 3\")\n",
      "\n",
      "menu = {'1':one, '2':two, '3': three}\n",
      "\n",
      "if __name__ == '__main__':\n",
      "    choice = raw_input(\"Choose 1, 2, 3 \")\n",
      "    menu[choice]()"
     ],
     "language": "python",
     "metadata": {},
     "outputs": [
      {
       "name": "stdout",
       "output_type": "stream",
       "stream": "stdout",
       "text": [
        "Choose 1, 2, 3 1\n"
       ]
      },
      {
       "output_type": "stream",
       "stream": "stdout",
       "text": [
        "You chose number 1\n"
       ]
      }
     ],
     "prompt_number": 38
    },
    {
     "cell_type": "heading",
     "level": 2,
     "metadata": {},
     "source": [
      "Module"
     ]
    },
    {
     "cell_type": "markdown",
     "metadata": {},
     "source": [
      "Wird ein Programm l\u00e4nger, teilt man es besser in mehrere Dateien auf, um es leichter warten zu k\u00f6nnen. Au\u00dferdem ist es von Vorteil, n\u00fctzliche Funktionen in mehreren Programmen verwenden zu k\u00f6nnen, ohne sie in jedem Programm erneut definieren zu m\u00fcssen.\n",
      "\n",
      "Hierf\u00fcr bietet Python die M\u00f6glichkeit, etwas in einer Datei zu definieren und diese in einer anderen Datei oder in der interaktiven Konsole wieder zu verwenden. So eine Datei wird als Modul bezeichnet. Definitionen eines Moduls k\u00f6nnen in anderen Modulen oder in das Hauptmodul importiert werden, welches die Gesamtheit aller Funktionen und Variablen enth\u00e4lt, auf die man in einem Skript zugreifen kann.\n",
      "\n",
      "Ein Modul ist eine Datei, die Python-Definitionen und -Anweisungen beinhaltet. Der Dateiname mit dem .py-Suffix entspricht dem Namen des Moduls. Innerhalb eines Moduls ist der Modulname als __name__ verf\u00fcgbar (globale Variable des Typs String).\n",
      "\n",
      "\u00dcber die *import* Syntax im Skript oder auch im Interpreter l\u00e4sst sich ein Modul laden. Bei der Python Installation werden bereits eine Reihe von Module installiert (in Linux Systemen typischerweise in '/usr/lib/python3/'). Aus dem riesigen Online Angebot an Modulen l\u00e4sst sich auch \u00fcber pip (bzw. **pip3** bei Python3) nach im Python Online-Archiv verf\u00fcgbaren Modulen suchen und diese installieren."
     ]
    },
    {
     "cell_type": "heading",
     "level": 2,
     "metadata": {},
     "source": [
      "Typische Fallstricke"
     ]
    },
    {
     "cell_type": "markdown",
     "metadata": {},
     "source": [
      "Typische Anf\u00e4ngerfehler sind die fehlenden \":\" bei z.B. *if* oder einer Schleife sowie eine ungleiche Einr\u00fccktiefe. \n",
      "\n",
      "Da es jedoch keinen separaten Compilerschritt gibt, ist es sehr einfach mit kleinernen \u00c4nderung zu experimentieren und das Programmverhalten zu testen. Genau davon sollten Sie bei Ihrer Programmentwicklung profitieren. Auch k\u00f6nnen Sie mit *print()* jederzeit den Inhalt der Daten ausgeben und \u00fcber sys.exit(0) das Programm beenden. Damit k\u00f6nnen Sie sich Schritt f\u00fcr Schritt durch Ihr Python Skript arbeiten und testen.\n",
      "\n",
      "Wie bei jeder anderen Programmiersprache auch sind gute Dateinamen sehr hilfreich um den \u00dcberblick zu behalten!"
     ]
    },
    {
     "cell_type": "heading",
     "level": 2,
     "metadata": {},
     "source": [
      "Literatur"
     ]
    },
    {
     "cell_type": "markdown",
     "metadata": {},
     "source": [
      "- [Quelle](http://cs.stanford.edu/people/nick/python-in-one-easy-lesson/ \"1\") f\u00fcr diese \u00dcbersicht.\n",
      "- [Python Home Page](https://www.python.org \"2\")\n",
      "- [Python Pocket Reference](http://shop.oreilly.com/product/9780596158095.do \"3\")\n",
      "- [Ubuntu: Python](http://wiki.ubuntuusers.de/Python \"4\")"
     ]
    }
   ],
   "metadata": {}
  }
 ]
}